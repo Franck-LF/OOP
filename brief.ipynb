{
 "cells": [
  {
   "cell_type": "markdown",
   "metadata": {},
   "source": [
    "# <center>Multimedia"
   ]
  },
  {
   "cell_type": "markdown",
   "metadata": {},
   "source": [
    "## Sources"
   ]
  },
  {
   "cell_type": "markdown",
   "metadata": {},
   "source": [
    "https://www.pierre-giraud.com/python-apprendre-programmer-cours/oriente-objet-heritage-polymorphisme/\n",
    "\n",
    "https://www.datacamp.com/fr/tutorial/python-abstract-classes\n",
    "\n",
    "https://stacklima.com/python-__iter-__-et-__next-__-conversion-dun-objet-en-iterateur/\n",
    "\n",
    "https://www.geeksforgeeks.org/python-super/\n",
    "\n",
    "https://realpython.com/python-callable-instances/\n",
    "\n",
    "https://www.geeksforgeeks.org/encapsulation-in-python/\n",
    "\n",
    "https://docs.python.org/3/library/abc.html"
   ]
  },
  {
   "cell_type": "markdown",
   "metadata": {},
   "source": [
    "## Définitions"
   ]
  },
  {
   "cell_type": "markdown",
   "metadata": {},
   "source": [
    "**une classe** : Modèle ou patron contenant la structure d'objets. Les objets seront construits à l'aide de ce modèle.\n",
    "\n",
    "**une instance de classe** : Objet construit à partir d'une classe.\n",
    "\n",
    "**une instanciation** : C'est le fait d'instancier un objet.\n",
    "\n",
    "**une méthode de classe** : fonction définit dans la classe mais qui ne dépend pas des objets construits. Ces méthodes auront le même comportement pour tous les objets créés. (équivalent des fonctions statiques en Java / C++).\n",
    "\n",
    "**une méthode d'instance** : fonction définit dans la classe mais qui dépend des objects <code>def func(self, *args): ...</code>, ces méthodes auront des comportements différents selon les objets.\n",
    "\n",
    "**un attribut de classe** : attribut définit dans une classe qui aura la même valeur pour tous les objets construits. (équivalent d'un membre statique en Java / C++). \n",
    "\n",
    "**un attribut d'instance** : attribut définit dans une classe qui aura des valeurs différentes pour chaque objet. \n",
    "\n",
    "**l'héritage et la surcharge de méthode** : L'héritage est le fait de définir une classe comme \"sous-classe\" d'une autre classe, de cette façon la sous-classe (ou classe enfant ou classe dérivée) a accès aux méthodes et attributs de la classe parent.<br>\n",
    "**Surcharger** une méthode est le fait de définir dans la classe enfant une méthode qui existe déjà dans la classe parent.\n",
    "\n",
    "**le polymorphisme** : C'est la capacité d'une méthode à posséder plusieurs définitions et donc à se comporter différemment selon le contexte.\n",
    "\n",
    "**la fonction super()** : Fait référence à la classe mère, par exemple super().__init__(self, *arg) fait appel à la méthode __init__ de la fonction, mère.\n",
    "\n",
    "*Remarque* : dans le cas d'héritage multiple, la fonction __super__ va successivement dans les différentes classes mères pour chercher la méthode. \n",
    "\n",
    "Par exemple <code>class Child(Parent1, Parent2)</code> Parent1 puis Parent2.\n",
    "\n",
    "**une classe abstraite** : C'est une classe qui ne peut pas être instanciée (on ne peut pas créer d'objet), elle sert uniquement pour définir des sous-classes qui, elles, pourront être instanciées et utiliser les méthodes de la classe abstraite. Pour mettre une classe comme abstraite il suffit qu'elle possède une méthode abstraite.\n",
    "\n",
    "**une méthode abstraite** : Une méthode abstraite ne fait rien, elle n'a pas de code mais seulement une définition, elle est mise \"abstraite\" grâche au décorateur <code>@abstractmethod</code>. (équivalent d'une méthode *virtuelle pure* en Java / C++).\n",
    "\n",
    "Les méthodes spéciales (Dunder - Double Undescore) :<br>\n",
    "__init__(): Méthode permettant de construire et initialiser un objet, c'est ici qu'on initialise les attributs d'un objet. (équivalent du constructeur en Java / C++).<br>\n",
    "__len__(): Méthode qui renvoie la longueur de l'objet. Par exemple si l'on crée une classe vecteur, la méthode __len__ renverra la longueur du vecteur.<br>\n",
    "__call__(): Méthode qui permet à nos objets d'être \"callable\", c'est-à-dire d'être appelés comme fonction. Par exemple <code>object(*arg)</code><br>\n",
    "__str__(): Méthode permettant de faire un print sur notre objet <code>print(object)</code>, en général de la forme f\"Object {name}, {id}\"<br>\n",
    "__repr__(): idem que str (NON NON à creuser)<br>\n",
    "__iter__(): Méthode pour récupérer un itérateur sur notre objet, par exemple pour écrire <code>for i in object:</code> il faut que la méthode __iter__ soit définie. \n",
    "__next__(): Même idée que __iter__. Méthode pour incrémenter l'itérateur sur notre objet<br>\n",
    "\n",
    "Définissez **l'encapsulation** : C'est le fait de rassembler des données et des méthodes sur ces données au sein d'une classe et de réduire la visibilité des données (privée, protégée, publique) pour des raisons de sécurité.<br>\n",
    "\n",
    "**que se passe-t-il si un attribut commence par deux underscores ?**<br>\n",
    "0 underscore : la méthode ou l'attribut sont publiques (défaut).<br>\n",
    "1 underscore : Passe la méthode ou l'attribut en **protégé**, c'est-à-dire qu'ils sont accessibles uniquement dans la classe mère et les sous-classes.<br>\n",
    "2 underscores : Passe la méthode ou l'attribut en **privé**, c'est-à-dire qu'ils sont accesibles uniquement dans la classe mère (là où ils sont définis).<br>"
   ]
  },
  {
   "cell_type": "markdown",
   "metadata": {},
   "source": [
    "# <center>TP"
   ]
  },
  {
   "cell_type": "code",
   "execution_count": 14,
   "metadata": {},
   "outputs": [
    {
     "data": {
      "text/plain": [
       "[['a', 4], ['z', 5], ['h', 7], ['k', 9]]"
      ]
     },
     "execution_count": 14,
     "metadata": {},
     "output_type": "execute_result"
    }
   ],
   "source": [
    "lst = [['a', 4], ['z', 5], ['k', 9], ['h', 7]]\n",
    "lst.sort(key = lambda x : x[1])\n",
    "lst"
   ]
  },
  {
   "cell_type": "markdown",
   "metadata": {},
   "source": []
  }
 ],
 "metadata": {
  "kernelspec": {
   "display_name": "jupytest",
   "language": "python",
   "name": "python3"
  },
  "language_info": {
   "codemirror_mode": {
    "name": "ipython",
    "version": 3
   },
   "file_extension": ".py",
   "mimetype": "text/x-python",
   "name": "python",
   "nbconvert_exporter": "python",
   "pygments_lexer": "ipython3",
   "version": "3.12.3"
  }
 },
 "nbformat": 4,
 "nbformat_minor": 2
}

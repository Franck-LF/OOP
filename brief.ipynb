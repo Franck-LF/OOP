{
 "cells": [
  {
   "cell_type": "markdown",
   "metadata": {},
   "source": [
    "# <center>Multimedia"
   ]
  },
  {
   "cell_type": "markdown",
   "metadata": {},
   "source": [
    "## Sources"
   ]
  },
  {
   "cell_type": "markdown",
   "metadata": {},
   "source": [
    "https://www.pierre-giraud.com/python-apprendre-programmer-cours/oriente-objet-heritage-polymorphisme/\n",
    "\n",
    "https://www.datacamp.com/fr/tutorial/python-abstract-classes\n",
    "\n",
    "https://stacklima.com/python-__iter-__-et-__next-__-conversion-dun-objet-en-iterateur/\n",
    "\n",
    "https://www.geeksforgeeks.org/python-super/\n",
    "\n",
    "https://realpython.com/python-callable-instances/\n",
    "\n",
    "https://www.geeksforgeeks.org/encapsulation-in-python/\n",
    "\n",
    "https://docs.python.org/3/library/abc.html"
   ]
  },
  {
   "cell_type": "markdown",
   "metadata": {},
   "source": [
    "## Définitions"
   ]
  },
  {
   "cell_type": "markdown",
   "metadata": {},
   "source": [
    "**une classe** : Modèle ou patron contenant la structure d'objets. Les objets seront construits à l'aide de ce modèle.\n",
    "\n",
    "**une instance de classe** : Objet construit à partir d'une classe.\n",
    "\n",
    "**une instanciation** : C'est le fait d'instancier un objet.\n",
    "\n",
    "**une méthode de classe** : fonction définit dans la classe mais qui ne dépend pas des objets construits. Ces méthodes auront le même comportement pour tous les objets créés. (équivalent des fonctions statiques en Java / C++).\n",
    "\n",
    "**une méthode d'instance** : fonction définit dans la classe mais qui dépend des objects <code>def func(self, *args): ...</code>, ces méthodes auront des comportements différents selon les objets.\n",
    "\n",
    "**un attribut de classe** : attribut définit dans une classe qui aura la même valeur pour tous les objets construits. (équivalent d'un membre statique en Java / C++). \n",
    "\n",
    "**un attribut d'instance** : attribut définit dans une classe qui aura des valeurs différentes pour chaque objet. \n",
    "\n",
    "**l'héritage et la surcharge de méthode** : L'héritage est le fait de définir une classe comme \"sous-classe\" d'une autre classe, de cette façon la sous-classe (ou classe enfant ou classe dérivée) a accès aux méthodes et attributs de la classe parent.<br>\n",
    "**Surcharger** une méthode est le fait de définir dans la classe enfant une méthode qui existe déjà dans la classe parent.\n",
    "\n",
    "**le polymorphisme** : C'est la capacité d'une méthode à posséder plusieurs définitions et donc à se comporter différemment selon le contexte.\n",
    "\n",
    "**la fonction super()** : Fait référence à la classe mère, par exemple super().__init__(self, *arg) fait appel à la méthode __init__ de la fonction, mère.\n",
    "\n",
    "*Remarque* : dans le cas d'héritage multiple, la fonction __super__ va successivement dans les différentes classes mères pour chercher la méthode. \n",
    "\n",
    "Par exemple <code>class Child(Parent1, Parent2)</code> Parent1 puis Parent2.\n",
    "\n",
    "**une classe abstraite** : C'est une classe qui ne peut pas être instanciée (on ne peut pas créer d'objet), elle sert uniquement pour définir des sous-classes qui, elles, pourront être instanciées et utiliser les méthodes de la classe abstraite. Pour mettre une classe comme abstraite il suffit qu'elle possède une méthode abstraite.\n",
    "\n",
    "**une méthode abstraite** : Une méthode abstraite ne fait rien, elle n'a pas de code mais seulement une définition, elle est mise \"abstraite\" grâche au décorateur <code>@abstractmethod</code>. (équivalent d'une méthode *virtuelle pure* en Java / C++).\n",
    "\n",
    "Les méthodes spéciales (Dunder - Double Undescore) :<br>\n",
    "__init__(): Méthode permettant de construire et initialiser un objet, c'est ici qu'on initialise les attributs d'un objet. (équivalent du constructeur en Java / C++).<br>\n",
    "__len__(): Méthode qui renvoie la longueur de l'objet. Par exemple si l'on crée une classe vecteur, la méthode __len__ renverra la longueur du vecteur.<br>\n",
    "__call__(): Méthode qui permet à nos objets d'être \"callable\", c'est-à-dire d'être appelés comme fonction. Par exemple <code>object(*arg)</code><br>\n",
    "__str__(): Méthode permettant de faire un print sur notre objet <code>print(object)</code>, en général de la forme f\"Object {name}, {id}\"<br>\n",
    "__repr__(): idem que str (NON NON à creuser)<br>\n",
    "__iter__(): Méthode pour récupérer un itérateur sur notre objet, par exemple pour écrire <code>for i in object:</code> il faut que la méthode __iter__ soit définie. \n",
    "__next__(): Même idée que __iter__. Méthode pour incrémenter l'itérateur sur notre objet<br>\n",
    "\n",
    "Définissez **l'encapsulation** : C'est le fait de rassembler des données et des méthodes sur ces données au sein d'une classe et de réduire la visibilité des données (privée, protégée, publique) pour des raisons de sécurité.<br>\n",
    "\n",
    "**que se passe-t-il si un attribut commence par deux underscores ?**<br>\n",
    "0 underscore : la méthode ou l'attribut sont publiques (défaut).<br>\n",
    "1 underscore : Passe la méthode ou l'attribut en **protégé**, c'est-à-dire qu'ils sont accessibles uniquement dans la classe mère et les sous-classes.<br>\n",
    "2 underscores : Passe la méthode ou l'attribut en **privé**, c'est-à-dire qu'ils sont accesibles uniquement dans la classe mère (là où ils sont définis).<br>"
   ]
  },
  {
   "cell_type": "markdown",
   "metadata": {},
   "source": [
    "# <center>TP"
   ]
  },
  {
   "cell_type": "markdown",
   "metadata": {},
   "source": [
    "Création des classes Media, Book, Movie, Album, track selon l'architecture suivante :\n",
    "\n",
    "![architecture](images/architecture.png)\n",
    "\n",
    "Création d'un fichier main pour l'interface utilisateur (une simple console)."
   ]
  },
  {
   "cell_type": "markdown",
   "metadata": {},
   "source": []
  },
  {
   "cell_type": "code",
   "execution_count": null,
   "metadata": {},
   "outputs": [
    {
     "ename": "TypeError",
     "evalue": "Test.__init__() takes 2 positional arguments but 3 were given",
     "output_type": "error",
     "traceback": [
      "\u001b[1;31m---------------------------------------------------------------------------\u001b[0m",
      "\u001b[1;31mTypeError\u001b[0m                                 Traceback (most recent call last)",
      "Cell \u001b[1;32mIn[8], line 17\u001b[0m\n\u001b[0;32m     14\u001b[0m     \u001b[38;5;28;01mdef\u001b[39;00m \u001b[38;5;21mfunc\u001b[39m(\u001b[38;5;28mself\u001b[39m, firstname:\u001b[38;5;28mstr\u001b[39m):\n\u001b[0;32m     15\u001b[0m         \u001b[38;5;28mprint\u001b[39m(\u001b[38;5;28mself\u001b[39m\u001b[38;5;241m.\u001b[39mname, firstname)\n\u001b[1;32m---> 17\u001b[0m t \u001b[38;5;241m=\u001b[39m Test(\u001b[38;5;124m'\u001b[39m\u001b[38;5;124mname\u001b[39m\u001b[38;5;124m'\u001b[39m, \u001b[38;5;241m15\u001b[39m)\n\u001b[0;32m     18\u001b[0m t\u001b[38;5;241m.\u001b[39mfunc(\u001b[38;5;241m21\u001b[39m)\n\u001b[0;32m     19\u001b[0m t\u001b[38;5;241m.\u001b[39mfunc(\u001b[38;5;124m'\u001b[39m\u001b[38;5;124mlast\u001b[39m\u001b[38;5;124m'\u001b[39m)\n",
      "\u001b[1;31mTypeError\u001b[0m: Test.__init__() takes 2 positional arguments but 3 were given"
     ]
    }
   ],
   "source": [
    "class Test:\n",
    "\n",
    "    def __init__(self, name, id):\n",
    "        self.name = name\n",
    "        self.id   = id\n",
    "\n",
    "    def __init__(self, name):\n",
    "        self.name = name\n",
    "        self.id   = 0\n",
    "\n",
    "    def func(self, age:int):\n",
    "        print(self.name, age)\n",
    "\n",
    "    def func(self, firstname:str):\n",
    "        print(self.name, firstname)\n",
    "\n",
    "t = Test('name', 15)\n",
    "t.func(21)\n",
    "t.func('last')\n",
    "\n",
    "s = Test('name')\n",
    "\n",
    "# def test_func(age:int, name:str):\n",
    "#     print(age, name)\n",
    "\n",
    "# def test_func(age:int, height:int):\n",
    "#     print(age, height)\n",
    "\n",
    "# test_func(12, 'name')\n",
    "# test_func(12, 180)"
   ]
  },
  {
   "cell_type": "code",
   "execution_count": null,
   "metadata": {},
   "outputs": [],
   "source": []
  }
 ],
 "metadata": {
  "kernelspec": {
   "display_name": "jupytest",
   "language": "python",
   "name": "python3"
  },
  "language_info": {
   "codemirror_mode": {
    "name": "ipython",
    "version": 3
   },
   "file_extension": ".py",
   "mimetype": "text/x-python",
   "name": "python",
   "nbconvert_exporter": "python",
   "pygments_lexer": "ipython3",
   "version": "3.12.3"
  }
 },
 "nbformat": 4,
 "nbformat_minor": 2
}

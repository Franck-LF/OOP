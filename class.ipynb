{
 "cells": [
  {
   "cell_type": "markdown",
   "metadata": {},
   "source": [
    "# <center> OOP\n",
    "\n",
    "https://www.w3resource.com/python/python-object-classes.php<br>\n",
    "https://docs.python.org/3/tutorial/classes.html<br>\n",
    "https://www.w3schools.com/python/python_classes.asp\n",
    "\n"
   ]
  },
  {
   "cell_type": "code",
   "execution_count": 37,
   "metadata": {},
   "outputs": [],
   "source": [
    "%reset"
   ]
  },
  {
   "cell_type": "code",
   "execution_count": 3,
   "metadata": {},
   "outputs": [],
   "source": [
    "import numpy as np\n",
    "from math import fabs"
   ]
  },
  {
   "cell_type": "markdown",
   "metadata": {},
   "source": [
    "## Basic"
   ]
  },
  {
   "cell_type": "code",
   "execution_count": 26,
   "metadata": {},
   "outputs": [
    {
     "name": "stdout",
     "output_type": "stream",
     "text": [
      "Bob 136\n"
     ]
    }
   ],
   "source": [
    "class Animal:\n",
    "    name = 'Bob'\n",
    "    id   = 136\n",
    "\n",
    "bob = Animal()\n",
    "print(bob.name, bob.id)"
   ]
  },
  {
   "cell_type": "markdown",
   "metadata": {},
   "source": [
    "The <code>__str__()</code> function controls what should be returned when the class object is represented as a string."
   ]
  },
  {
   "cell_type": "code",
   "execution_count": null,
   "metadata": {},
   "outputs": [
    {
     "name": "stdout",
     "output_type": "stream",
     "text": [
      "bob(156)\n"
     ]
    }
   ],
   "source": [
    "class Animal:\n",
    "    def __init__(self, name, id):\n",
    "        self.name = name\n",
    "        self.id = id\n",
    "\n",
    "    def __str__(self):\n",
    "        return f\"{self.name}({self.id})\"\n",
    "\n",
    "bob = Animal('bob', 156)\n",
    "print(bob)"
   ]
  },
  {
   "cell_type": "markdown",
   "metadata": {},
   "source": [
    "## Static Variables: Differences Python, Java/C++"
   ]
  },
  {
   "cell_type": "markdown",
   "metadata": {},
   "source": [
    "**Java/C++ Behavior**: When you modify a static variable in Java or C++, the change is reflected across all instances of the class, and they all remain synchronized with the static variable’s value.\n",
    "\n",
    "**Python Behavior**: In Python, if you modify a class variable through an instance, a new instance variable is created. This separates the modified value from the original class variable, which remains unchanged for other instances."
   ]
  },
  {
   "cell_type": "code",
   "execution_count": 11,
   "metadata": {},
   "outputs": [
    {
     "name": "stdout",
     "output_type": "stream",
     "text": [
      "Object destroyed\n",
      "Object destroyed\n",
      "bob(156, static)\n",
      "alice(189, static)\n",
      "bob(156, static)\n",
      "alice(189, dynamic)\n",
      "bob(156, dynamic)\n",
      "alice(189, dynamic)\n"
     ]
    }
   ],
   "source": [
    "class Animal:\n",
    "    test = \"static\"         # Class Variable (Static)\n",
    "\n",
    "    def __init__(self, name, id):\n",
    "        self.name = name    # Instance Variable\n",
    "        self.id = id        # Instance Variable\n",
    "\n",
    "    def __del__(self):\n",
    "        print(\"Object destroyed\")\n",
    "    \n",
    "    def __str__(self):\n",
    "        return f\"{self.name}({self.id}, {self.test})\"\n",
    "\n",
    "bob = Animal('bob', 156)\n",
    "alice = Animal('alice', 189)\n",
    "print(bob)\n",
    "print(alice)\n",
    "\n",
    "alice.test = 'dynamic' # To Avoid !!! (can lead to confusion).\n",
    "print(bob)   # Static member not modified\n",
    "print(alice) # Static member modified\n",
    "\n",
    "Animal.test = 'dynamic'\n",
    "print(bob)   # Static member modified\n",
    "print(alice) # Static member modified\n"
   ]
  },
  {
   "cell_type": "markdown",
   "metadata": {},
   "source": [
    "## Operators"
   ]
  },
  {
   "cell_type": "markdown",
   "metadata": {},
   "source": [
    "\n",
    "Magic Functions : https://www.geeksforgeeks.org/dunder-magic-methods-python/"
   ]
  },
  {
   "cell_type": "code",
   "execution_count": 6,
   "metadata": {},
   "outputs": [],
   "source": [
    "class Fraction():\n",
    "\n",
    "    _epsilon = 10**(-16)\n",
    "\n",
    "    def __init__(self, num:int, den:int):\n",
    "        self.num = num\n",
    "        self.den = den\n",
    "        if fabs(den) < Fraction._epsilon:\n",
    "            print(\"Error, denominator equals to zero\")\n",
    "\n",
    "    def __del__(self):\n",
    "        print(\"Fraction destroyed\")\n",
    "\n",
    "    def __str__(self) -> str:\n",
    "        return f\"{self.num} / {self.den}\"\n",
    "    \n",
    "    def __repr__(self):\n",
    "        return f\"Fraction: {self.num} / {self.den}\"\n",
    "    \n",
    "    def value(self):\n",
    "        return self.num / self.den\n",
    "\n",
    "    def __add__(self, other):\n",
    "        return Fraction(self.num * other.den + other.num * self.den, self.den * other.den)\n",
    "    \n",
    "    def __sub__(self, other):\n",
    "        return Fraction(self.num * other.den - other.num * self.den, self.den * other.den)\n",
    "    \n",
    "    def __mul__(self, other):\n",
    "        return Fraction(self.num * other.num, self.den * other.den)\n",
    "    \n",
    "    def inv(self):\n",
    "        if fabs(self.num) < Fraction._epsilon:\n",
    "            print(\"Error, numerator equals to zero, so no inverse\")\n",
    "        return Fraction(self.den, self.num)\n",
    "\n",
    "    def __truediv__(self, other):\n",
    "        assert other\n",
    "        return Fraction(self.num * other.den, self.den * other.num)\n",
    "    \n",
    "    def __eq__(self, other) -> bool:\n",
    "        return self.num * other.den == self.den * other.num\n",
    "    \n",
    "    def __ne__(self, other) -> bool:\n",
    "        return not(self == other)\n",
    "\n",
    "    def __lt__(self, other) -> bool:\n",
    "        return self.num * other.den < self.den * other.num\n",
    "    \n",
    "    def __le__(self, other) -> bool:\n",
    "        return self.num * other.den <= self.den * other.num\n",
    "    \n",
    "    def __ge__(self, other) -> bool:\n",
    "        return not(self < other)\n",
    "    \n",
    "    def __gt__(self, other) -> bool:\n",
    "        return not(self <= other)\n",
    "    \n",
    "    def __bool__(self) -> bool:\n",
    "        return not(self.num == 0)\n",
    "    \n",
    "    def __int__(self) -> int:\n",
    "        return int(self.num / self.den)\n",
    "    \n",
    "    def __float__(self) -> float:\n",
    "        return self.num / self.den\n",
    "    \n",
    "    def gcd(a, b):\n",
    "        return Fraction.gcdRec(int(fabs(a)), int(fabs(b)))\n",
    "\n",
    "    def gcdRec(a, b):\n",
    "        if b == 0: return a\n",
    "        return Fraction.gcdRec(b, a % b)"
   ]
  },
  {
   "cell_type": "code",
   "execution_count": 9,
   "metadata": {},
   "outputs": [
    {
     "name": "stdout",
     "output_type": "stream",
     "text": [
      "Fraction destroyed\n",
      "Fraction destroyed\n",
      "1 / 3 \t 0.3333333333333333\n",
      "1 / 6 \t 0.16666666666666666\n",
      "sum\t 9 / 18\n",
      "Fraction destroyed\n",
      "sub\t 3 / 18\n",
      "Fraction destroyed\n",
      "mult\t 1 / 18\n",
      "Fraction destroyed\n",
      "inv\t 3 / 1\n",
      "Fraction destroyed\n",
      "div\t 6 / 3\n",
      "Fraction destroyed\n",
      "Fraction destroyed\n",
      "int\t 0\n",
      "Fraction destroyed\n",
      "float\t 0.5\n",
      "Fraction destroyed\n",
      "gcd\t 10\n",
      "9 / 18 \t 0.5\n",
      "Fraction destroyed\n",
      "Fraction destroyed\n",
      "Fraction destroyed\n",
      "False False False True True\n"
     ]
    }
   ],
   "source": [
    "f1 = Fraction(1, 3)\n",
    "f2 = Fraction(1, 6)\n",
    "print(f1, '\\t', f1.value())\n",
    "print(f2, '\\t', f2.value())\n",
    "print('sum\\t', f1 + f2)\n",
    "print('sub\\t', f1 - f2)\n",
    "print('mult\\t', f1 * f2)\n",
    "print('inv\\t', f1.inv())\n",
    "print('div\\t', f1 / f2)\n",
    "print('int\\t', int(f1 + f2))\n",
    "print('float\\t', float(f1 + f2))\n",
    "f3 = f1 + f2\n",
    "print('gcd\\t', Fraction.gcd(120, 50))\n",
    "\n",
    "print(f3, '\\t', f3.value())\n",
    "print(f1 < f2, f2 < f2, f1 + f2 < f3, f1 + f2 <= f3, f1 + f2 == f3)"
   ]
  },
  {
   "cell_type": "markdown",
   "metadata": {},
   "source": [
    "## Méthodes spéciales\n",
    "\n",
    "__init__ :\n",
    "__repr__ :\n",
    "__format__(self, format_spec) :\n",
    "__new__(cls, ...) : \n",
    "__del__(self) :\n",
    "\n",
    "\n",
    "\n"
   ]
  },
  {
   "cell_type": "code",
   "execution_count": 1,
   "metadata": {},
   "outputs": [
    {
     "data": {
      "text/plain": [
       "['__abs__',\n",
       " '__add__',\n",
       " '__and__',\n",
       " '__bool__',\n",
       " '__ceil__',\n",
       " '__class__',\n",
       " '__delattr__',\n",
       " '__dir__',\n",
       " '__divmod__',\n",
       " '__doc__',\n",
       " '__eq__',\n",
       " '__float__',\n",
       " '__floor__',\n",
       " '__floordiv__',\n",
       " '__format__',\n",
       " '__ge__',\n",
       " '__getattribute__',\n",
       " '__getnewargs__',\n",
       " '__getstate__',\n",
       " '__gt__',\n",
       " '__hash__',\n",
       " '__index__',\n",
       " '__init__',\n",
       " '__init_subclass__',\n",
       " '__int__',\n",
       " '__invert__',\n",
       " '__le__',\n",
       " '__lshift__',\n",
       " '__lt__',\n",
       " '__mod__',\n",
       " '__mul__',\n",
       " '__ne__',\n",
       " '__neg__',\n",
       " '__new__',\n",
       " '__or__',\n",
       " '__pos__',\n",
       " '__pow__',\n",
       " '__radd__',\n",
       " '__rand__',\n",
       " '__rdivmod__',\n",
       " '__reduce__',\n",
       " '__reduce_ex__',\n",
       " '__repr__',\n",
       " '__rfloordiv__',\n",
       " '__rlshift__',\n",
       " '__rmod__',\n",
       " '__rmul__',\n",
       " '__ror__',\n",
       " '__round__',\n",
       " '__rpow__',\n",
       " '__rrshift__',\n",
       " '__rshift__',\n",
       " '__rsub__',\n",
       " '__rtruediv__',\n",
       " '__rxor__',\n",
       " '__setattr__',\n",
       " '__sizeof__',\n",
       " '__str__',\n",
       " '__sub__',\n",
       " '__subclasshook__',\n",
       " '__truediv__',\n",
       " '__trunc__',\n",
       " '__xor__',\n",
       " 'as_integer_ratio',\n",
       " 'bit_count',\n",
       " 'bit_length',\n",
       " 'conjugate',\n",
       " 'denominator',\n",
       " 'from_bytes',\n",
       " 'imag',\n",
       " 'is_integer',\n",
       " 'numerator',\n",
       " 'real',\n",
       " 'to_bytes']"
      ]
     },
     "execution_count": 1,
     "metadata": {},
     "output_type": "execute_result"
    }
   ],
   "source": [
    "dir(int)"
   ]
  },
  {
   "cell_type": "markdown",
   "metadata": {},
   "source": [
    "### __new__ and __init__\n",
    "\n",
    "https://www.geeksforgeeks.org/__new__-in-python/"
   ]
  },
  {
   "cell_type": "code",
   "execution_count": null,
   "metadata": {},
   "outputs": [
    {
     "name": "stdout",
     "output_type": "stream",
     "text": [
      "new\n",
      "new\n",
      "new\n"
     ]
    }
   ],
   "source": [
    "class Test:\n",
    "\n",
    "    def __init__(self, value:int):\n",
    "        print(\"init\")\n",
    "        self.value = value\n",
    "\n",
    "    def __new__(cls, value:int):\n",
    "        print(\"new\")\n",
    "        return \n",
    "\n",
    "    def __str__(self):\n",
    "        print(f\"Test Object: {self.value}\")\n",
    "\n",
    "t1 = Test(10)\n",
    "t2 = Test(15)\n",
    "\n",
    "Test(12)"
   ]
  },
  {
   "cell_type": "markdown",
   "metadata": {},
   "source": [
    "## Super"
   ]
  },
  {
   "cell_type": "markdown",
   "metadata": {},
   "source": [
    "https://www.geeksforgeeks.org/python-super/\n",
    "Pour faire référence à la classe mère lors de l'initialisation de la classe enfant."
   ]
  },
  {
   "cell_type": "code",
   "execution_count": null,
   "metadata": {},
   "outputs": [],
   "source": [
    "# Not working because no reference to the parent in the init method.\n",
    "\n",
    "class Parent():\n",
    "    def __init__(self, name:str):\n",
    "        self.name = name\n",
    "\n",
    "class Child(Parent):\n",
    "    def __init__(self, name:str, age:int):\n",
    "        self.name_ = name\n",
    "        self.age = age\n",
    "\n",
    "    def __str__(self):\n",
    "        return f\"My name is {self.name}, I am {self.age}\"\n",
    "\n",
    "jo = Child('Jo', 12)\n",
    "print(jo)"
   ]
  },
  {
   "cell_type": "code",
   "execution_count": 58,
   "metadata": {},
   "outputs": [
    {
     "name": "stdout",
     "output_type": "stream",
     "text": [
      "My name is Jo, I am 12\n"
     ]
    }
   ],
   "source": [
    "# Good practice\n",
    "\n",
    "class Parent():\n",
    "    def __init__(self, name:str):\n",
    "        self.name = name\n",
    "\n",
    "class Child(Parent):\n",
    "    def __init__(self, name:str, age:int):\n",
    "        super().__init__(name)\n",
    "        self.age = age\n",
    "\n",
    "    def __str__(self):\n",
    "        return f\"My name is {self.name}, I am {self.age}\"\n",
    "\n",
    "jo = Child('Jo', 12)\n",
    "print(jo)"
   ]
  },
  {
   "cell_type": "markdown",
   "metadata": {},
   "source": [
    "## Heritage"
   ]
  },
  {
   "cell_type": "code",
   "execution_count": null,
   "metadata": {},
   "outputs": [],
   "source": [
    "class Animal:\n",
    "\n",
    "    def __init__(self, name, id):\n",
    "        self.name = name\n",
    "        self.id = id\n",
    "\n",
    "    def __del__(self):\n",
    "        print(\"Object destroyed\")\n",
    "    \n",
    "    def __str__(self):\n",
    "        return f\"Hello, my name is {self.name}, I am an animal.\"\n",
    "    \n",
    "    def make_sound(self):\n",
    "        print(\"animal sound\")\n",
    "\n",
    "    def move(self):\n",
    "        pass\n",
    "\n",
    "    @staticmethod\n",
    "    def test_static():\n",
    "        print('Static method')\n",
    "\n",
    "class Dog(Animal):\n",
    "\n",
    "    def __init__(self, name, id):\n",
    "        Animal.__init__(self, name, id)\n",
    "\n",
    "    def __str__(self):\n",
    "        return f\"Hello, my name is {self.name}, I am a dog.\"\n",
    "\n",
    "    def make_sound(self):\n",
    "        print(\"barking\")\n",
    "\n",
    "    def move(self):\n",
    "        print(\"Run\")\n",
    "\n",
    "class Cat(Animal):\n",
    "\n",
    "    def __init__(self, name, id):\n",
    "        Animal.__init__(self, name, id)\n",
    "\n",
    "    def __str__(self):\n",
    "        return f\"Hello, my name is {self.name}, I am a cat.\"\n",
    "    \n",
    "    def move(self):\n",
    "        print(\"Gently step\")\n",
    "\n",
    "class Bird(Animal):\n",
    "\n",
    "    def __init__(self, name, id):\n",
    "        Animal.__init__(self, name, id)\n",
    "\n",
    "    def __str__(self):\n",
    "        return f\"Hello, my name is {self.name}, I am a bird.\"\n",
    "    \n",
    "    def make_sound(self):\n",
    "        print(\"Pii pii\")\n",
    "    \n",
    "    def move(self):\n",
    "        print(\"Fly\")"
   ]
  },
  {
   "cell_type": "code",
   "execution_count": 40,
   "metadata": {},
   "outputs": [
    {
     "name": "stdout",
     "output_type": "stream",
     "text": [
      "Hello, my name is alice, I am a cat. True\n",
      "Hello, my name is bob, I am an animal. True\n",
      "Hello, my name is chuck, I am a dog. False\n",
      "Hello, my name is dany, I am a bird. False\n",
      "animal sound\n",
      "animal sound\n",
      "barking\n",
      "Pii pii\n",
      "False\n",
      "True\n",
      "True\n",
      "Gently step\n",
      "Run\n",
      "Fly\n"
     ]
    }
   ],
   "source": [
    "\n",
    "alice = Cat('alice', 189)\n",
    "bob = Animal('bob', 156)\n",
    "chuck = Dog('chuck', 40)\n",
    "dany = Bird('dany', 654)\n",
    "print(alice, isinstance(alice, Animal))\n",
    "print(bob, isinstance(bob, Animal))\n",
    "print(chuck, isinstance(chuck, Cat))\n",
    "print(dany, isinstance(dany, Dog))\n",
    "alice.make_sound()\n",
    "bob.make_sound()\n",
    "chuck.make_sound()\n",
    "dany.make_sound()\n",
    "print(issubclass(Animal, Dog))\n",
    "print(issubclass(Dog, Animal))\n",
    "print(issubclass(Cat, Animal))\n",
    "alice.move()\n",
    "bob.move()\n",
    "chuck.move()\n",
    "dany.move()"
   ]
  },
  {
   "cell_type": "code",
   "execution_count": null,
   "metadata": {},
   "outputs": [],
   "source": []
  }
 ],
 "metadata": {
  "kernelspec": {
   "display_name": "jupytest",
   "language": "python",
   "name": "python3"
  },
  "language_info": {
   "codemirror_mode": {
    "name": "ipython",
    "version": 3
   },
   "file_extension": ".py",
   "mimetype": "text/x-python",
   "name": "python",
   "nbconvert_exporter": "python",
   "pygments_lexer": "ipython3",
   "version": "3.12.3"
  }
 },
 "nbformat": 4,
 "nbformat_minor": 2
}
